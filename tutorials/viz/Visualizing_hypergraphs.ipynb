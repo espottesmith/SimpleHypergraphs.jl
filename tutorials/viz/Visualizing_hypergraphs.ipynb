{
 "cells": [
  {
   "cell_type": "markdown",
   "metadata": {},
   "source": [
    "# How to visualize a *simple* hypergraph"
   ]
  },
  {
   "cell_type": "markdown",
   "metadata": {},
   "source": [
    "Install the **SimpleHypergraphs** package."
   ]
  },
  {
   "cell_type": "code",
   "execution_count": null,
   "metadata": {},
   "outputs": [],
   "source": [
    "#] add SimpleHypergraphs"
   ]
  },
  {
   "cell_type": "markdown",
   "metadata": {},
   "source": [
    "Include the library package with *using*."
   ]
  },
  {
   "cell_type": "code",
   "execution_count": 10,
   "metadata": {},
   "outputs": [],
   "source": [
    "using SimpleHypergraphs"
   ]
  },
  {
   "cell_type": "markdown",
   "metadata": {},
   "source": [
    "Let's initialize a simple hypergraph, containing Float weights and Int metadata for both vertices and hyperedges."
   ]
  },
  {
   "cell_type": "code",
   "execution_count": 11,
   "metadata": {},
   "outputs": [
    {
     "data": {
      "text/plain": [
       "7×4 Hypergraph{Float64, Int64, Int64, Dict{Int64, Float64}}:\n",
       " 1.5        nothing   nothing   nothing\n",
       " 1.5        nothing  3.5        nothing\n",
       " 1.5        nothing   nothing  2.5\n",
       "  nothing   nothing  4.5       4.5\n",
       "  nothing  6.5        nothing  5.5\n",
       " 1.0        nothing   nothing   nothing\n",
       " 1.0        nothing   nothing   nothing"
      ]
     },
     "execution_count": 11,
     "metadata": {},
     "output_type": "execute_result"
    }
   ],
   "source": [
    "h = Hypergraph{Float64, Int, Int}(7,4)\n",
    "h[1:3,1] .= 1.5\n",
    "h[6:7,1] .= 1\n",
    "h[3,4] = 2.5\n",
    "h[2,3] = 3.5\n",
    "h[4,3:4] .= 4.5\n",
    "h[5,4] = 5.5\n",
    "h[5,2] = 6.5\n",
    "\n",
    "h"
   ]
  },
  {
   "cell_type": "markdown",
   "metadata": {},
   "source": [
    "Setting vertex and hyperedge metadata, respectively."
   ]
  },
  {
   "cell_type": "code",
   "execution_count": 12,
   "metadata": {},
   "outputs": [],
   "source": [
    "for v=1:nhv(h)\n",
    "    set_vertex_meta!(h, v, v)\n",
    "end"
   ]
  },
  {
   "cell_type": "code",
   "execution_count": 13,
   "metadata": {},
   "outputs": [],
   "source": [
    "for he=1:nhe(h)\n",
    "    set_hyperedge_meta!(h, he, he)\n",
    "end"
   ]
  },
  {
   "cell_type": "markdown",
   "metadata": {},
   "source": [
    "## Basic visualization parameters\n",
    "To visualize a given hypergraph `h`, the user needs to specify two mandatory parameters:\n",
    "1. the hypergraph `h` to draw\n",
    "2. which method should be used to visualize `h`\n",
    "    * `GraphBased` represents each hyperedge `he` with a *fake* vertex `fv` to which each vertex `v ∈ he` is connected.\n",
    "    * `HyperNetX` renders an Euler diagram of the hypergraph where vertices are black dots and hyper edges are convex shapes containing the vertices belonging to the edge set. "
   ]
  },
  {
   "cell_type": "markdown",
   "metadata": {},
   "source": [
    "## A `GraphBased` visualization"
   ]
  },
  {
   "cell_type": "code",
   "execution_count": 14,
   "metadata": {},
   "outputs": [
    {
     "data": {
      "text/html": [
       "    <head>\n",
       "    </head>\n",
       "\n",
       "    <div id=\"div1\"></div>\n",
       "\n",
       "    <script src=\"https://alessant.github.io/hypergraphs-drawing/hypergraphsdrawing.js\"></script>\n",
       "\n",
       "    <script>\n",
       "\n",
       "        hgd.draw(\n",
       "            [{\"1\":1.5},{\"3\":3.5,\"1\":1.5},{\"4\":2.5,\"1\":1.5},{\"4\":4.5,\"3\":4.5},{\"4\":5.5,\"2\":6.5},{\"1\":1.0},{\"1\":1.0}],\n",
       "            [{\"6\":1.0,\"7\":1.0,\"2\":1.5,\"3\":1.5,\"1\":1.5},{\"5\":6.5},{\"4\":4.5,\"2\":3.5},{\"5\":5.5,\"4\":4.5,\"3\":2.5}],\n",
       "            \"div1\",\n",
       "            vmeta=[1,2,3,4,5,6,7],\n",
       "            hemeta=[1,2,3,4],\n",
       "            width=500,\n",
       "            height=500,\n",
       "            strength=-60,\n",
       "            linkDistance=40,\n",
       "            linkStrength=1,\n",
       "            theta=0.8,\n",
       "            radius=10,\n",
       "            nodeRadii=null,\n",
       "            nodeColor=\"#999\",\n",
       "            nodeColors=null,\n",
       "            nodeStroke=null,\n",
       "            nodeStrokes=null,\n",
       "            strokeWidth=0,\n",
       "            strokeWidths=null,\n",
       "            nodeOpacity=1,\n",
       "            nodeOpacities=null,\n",
       "            strokeOpacity=1,\n",
       "            strokeOpacities=null,\n",
       "            withNodeLabels=false,\n",
       "            nodeLabels=null,\n",
       "            nodeLabelsAttr=null,\n",
       "            nodeLabelsStyle=null,\n",
       "            withNodeMetadataOnHover=false,\n",
       "            withNodeWeight=false,\n",
       "            edgeColors=null,\n",
       "            withEdgeLabels=false,\n",
       "            edgeLabels=null,\n",
       "            withHyperedgesMetadataOnHover=false\n",
       "            );\n",
       "    </script>\n",
       "    </footer>\n"
      ],
      "text/plain": [
       "HTML{String}(\"    <head>\\n    </head>\\n\\n    <div id=\\\"div1\\\"></div>\\n\\n    <script src=\\\"https://alessant.github.io/hypergraphs-drawing/hypergraphsdrawing.js\\\"></script>\\n\\n    <script>\\n\\n        hgd.draw(\\n            [{\\\"1\\\":1.5},{\\\"3\\\":3.5,\\\"1\\\":1.5},{\\\"4\\\":2.5,\\\"1\\\":1.5},{\\\"4\\\":4.5,\\\"3\\\":4.5},{\\\"4\\\":5.5,\\\"2\\\":6.5},{\\\"1\\\":1.0},{\\\"1\\\":1.0}],\\n            [{\\\"6\\\":1.0,\\\"7\\\":1.0,\\\"2\\\":1.5,\\\"3\\\":1.5,\\\"1\\\":1.5},{\\\"5\\\":6.5},{\\\"4\\\":4.5,\\\"2\\\":3.5},{\\\"5\\\":5.5,\\\"4\\\":4.5,\\\"3\\\":2.5}],\\n            \\\"div1\\\",\\n            vmeta=[1,2,3,4,5,6,7],\\n            hemeta=[1,2,3,4],\\n            width=500,\\n            height=500,\\n            strength=-60,\\n            linkDistance=40,\\n            linkStrength=1,\\n            theta=0.8,\\n            radius=10,\\n            nodeRadii=null,\\n            nodeColor=\\\"#999\\\",\\n            nodeColors=null,\\n            nodeStroke=null,\\n            nodeStrokes=null,\\n            strokeWidth=0,\\n            strokeWidths=null,\\n            nodeOpacity=1,\\n            nodeOpacities=null,\\n            strokeOpacity=1,\\n            strokeOpacities=null,\\n            withNodeLabels=false,\\n            nodeLabels=null,\\n            nodeLabelsAttr=null,\\n            nodeLabelsStyle=null,\\n            withNodeMetadataOnHover=false,\\n            withNodeWeight=false,\\n            edgeColors=null,\\n            withEdgeLabels=false,\\n            edgeLabels=null,\\n            withHyperedgesMetadataOnHover=false\\n            );\\n    </script>\\n    </footer>\\n\")"
      ]
     },
     "execution_count": 14,
     "metadata": {},
     "output_type": "execute_result"
    }
   ],
   "source": [
    "SimpleHypergraphs.draw(h, GraphBased)"
   ]
  },
  {
   "cell_type": "markdown",
   "metadata": {},
   "source": [
    "### Vertices options"
   ]
  },
  {
   "cell_type": "markdown",
   "metadata": {},
   "source": [
    "* If `with_node_labels=true`, but `node_labels` is not specified, vertex ids will be used as their label."
   ]
  },
  {
   "cell_type": "code",
   "execution_count": 15,
   "metadata": {},
   "outputs": [
    {
     "data": {
      "text/html": [
       "    <head>\n",
       "    </head>\n",
       "\n",
       "    <div id=\"div2\"></div>\n",
       "\n",
       "    <script src=\"https://alessant.github.io/hypergraphs-drawing/hypergraphsdrawing.js\"></script>\n",
       "\n",
       "    <script>\n",
       "\n",
       "        hgd.draw(\n",
       "            [{\"1\":1.5},{\"3\":3.5,\"1\":1.5},{\"4\":2.5,\"1\":1.5},{\"4\":4.5,\"3\":4.5},{\"4\":5.5,\"2\":6.5},{\"1\":1.0},{\"1\":1.0}],\n",
       "            [{\"6\":1.0,\"7\":1.0,\"2\":1.5,\"3\":1.5,\"1\":1.5},{\"5\":6.5},{\"4\":4.5,\"2\":3.5},{\"5\":5.5,\"4\":4.5,\"3\":2.5}],\n",
       "            \"div2\",\n",
       "            vmeta=[1,2,3,4,5,6,7],\n",
       "            hemeta=[1,2,3,4],\n",
       "            width=500,\n",
       "            height=500,\n",
       "            strength=-60,\n",
       "            linkDistance=40,\n",
       "            linkStrength=1,\n",
       "            theta=0.8,\n",
       "            radius=10,\n",
       "            nodeRadii=null,\n",
       "            nodeColor=\"yellow\",\n",
       "            nodeColors=null,\n",
       "            nodeStroke=\"orange\",\n",
       "            nodeStrokes=null,\n",
       "            strokeWidth=2,\n",
       "            strokeWidths=null,\n",
       "            nodeOpacity=0.5,\n",
       "            nodeOpacities=null,\n",
       "            strokeOpacity=1,\n",
       "            strokeOpacities=null,\n",
       "            withNodeLabels=true,\n",
       "            nodeLabels=null,\n",
       "            nodeLabelsAttr=null,\n",
       "            nodeLabelsStyle=null,\n",
       "            withNodeMetadataOnHover=true,\n",
       "            withNodeWeight=false,\n",
       "            edgeColors=null,\n",
       "            withEdgeLabels=false,\n",
       "            edgeLabels=null,\n",
       "            withHyperedgesMetadataOnHover=false\n",
       "            );\n",
       "    </script>\n",
       "    </footer>\n"
      ],
      "text/plain": [
       "HTML{String}(\"    <head>\\n    </head>\\n\\n    <div id=\\\"div2\\\"></div>\\n\\n    <script src=\\\"https://alessant.github.io/hypergraphs-drawing/hypergraphsdrawing.js\\\"></script>\\n\\n    <script>\\n\\n        hgd.draw(\\n            [{\\\"1\\\":1.5},{\\\"3\\\":3.5,\\\"1\\\":1.5},{\\\"4\\\":2.5,\\\"1\\\":1.5},{\\\"4\\\":4.5,\\\"3\\\":4.5},{\\\"4\\\":5.5,\\\"2\\\":6.5},{\\\"1\\\":1.0},{\\\"1\\\":1.0}],\\n            [{\\\"6\\\":1.0,\\\"7\\\":1.0,\\\"2\\\":1.5,\\\"3\\\":1.5,\\\"1\\\":1.5},{\\\"5\\\":6.5},{\\\"4\\\":4.5,\\\"2\\\":3.5},{\\\"5\\\":5.5,\\\"4\\\":4.5,\\\"3\\\":2.5}],\\n            \\\"div2\\\",\\n            vmeta=[1,2,3,4,5,6,7],\\n            hemeta=[1,2,3,4],\\n            width=500,\\n            height=500,\\n            strength=-60,\\n            linkDistance=40,\\n            linkStrength=1,\\n            theta=0.8,\\n            radius=10,\\n            nodeRadii=null,\\n            nodeColor=\\\"yellow\\\",\\n            nodeColors=null,\\n            nodeStroke=\\\"orange\\\",\\n            nodeStrokes=null,\\n            strokeWidth=2,\\n            strokeWidths=null,\\n            nodeOpacity=0.5,\\n            nodeOpacities=null,\\n            strokeOpacity=1,\\n            strokeOpacities=null,\\n            withNodeLabels=true,\\n            nodeLabels=null,\\n            nodeLabelsAttr=null,\\n            nodeLabelsStyle=null,\\n            withNodeMetadataOnHover=true,\\n            withNodeWeight=false,\\n            edgeColors=null,\\n            withEdgeLabels=false,\\n            edgeLabels=null,\\n            withHyperedgesMetadataOnHover=false\\n            );\\n    </script>\\n    </footer>\\n\")"
      ]
     },
     "execution_count": 15,
     "metadata": {},
     "output_type": "execute_result"
    }
   ],
   "source": [
    "SimpleHypergraphs.draw(\n",
    "    h, \n",
    "    GraphBased; \n",
    "    width=500, \n",
    "    height=500,\n",
    "    radius=10, #same radius for each node\n",
    "    node_color = \"yellow\", #same color for each node\n",
    "    node_stroke=\"orange\", #same stroke for each node\n",
    "    stroke_width=2, #same stroke-width value for each node\n",
    "    node_opacity=0.5, #same opacity for each node\n",
    "    with_node_labels=true, #wheter displaying or not node labels\n",
    "    with_node_metadata_hover=true,\n",
    ")"
   ]
  },
  {
   "cell_type": "markdown",
   "metadata": {},
   "source": [
    "* Different radii, colors, strokes, stroke-widths, opacities and labels can be specified for each node. If one of these parameters is specified, the corresponding default value for each vertex will be ignored."
   ]
  },
  {
   "cell_type": "code",
   "execution_count": 16,
   "metadata": {},
   "outputs": [
    {
     "data": {
      "text/html": [
       "    <head>\n",
       "    </head>\n",
       "\n",
       "    <div id=\"div3\"></div>\n",
       "\n",
       "    <script src=\"https://alessant.github.io/hypergraphs-drawing/hypergraphsdrawing.js\"></script>\n",
       "\n",
       "    <script>\n",
       "\n",
       "        hgd.draw(\n",
       "            [{\"1\":1.5},{\"3\":3.5,\"1\":1.5},{\"4\":2.5,\"1\":1.5},{\"4\":4.5,\"3\":4.5},{\"4\":5.5,\"2\":6.5},{\"1\":1.0},{\"1\":1.0}],\n",
       "            [{\"6\":1.0,\"7\":1.0,\"2\":1.5,\"3\":1.5,\"1\":1.5},{\"5\":6.5},{\"4\":4.5,\"2\":3.5},{\"5\":5.5,\"4\":4.5,\"3\":2.5}],\n",
       "            \"div3\",\n",
       "            vmeta=[1,2,3,4,5,6,7],\n",
       "            hemeta=[1,2,3,4],\n",
       "            width=500,\n",
       "            height=500,\n",
       "            strength=-60,\n",
       "            linkDistance=40,\n",
       "            linkStrength=1,\n",
       "            theta=0.8,\n",
       "            radius=10,\n",
       "            nodeRadii=null,\n",
       "            nodeColor=\"yellow\",\n",
       "            nodeColors=[\"yellow\",\"yellow\",\"yellow\",\"blue\",\"red\",\"red\",\"blue\"],\n",
       "            nodeStroke=\"orange\",\n",
       "            nodeStrokes=[\"orange\",\"orange\",\"orange\",\"orange\",\"black\",\"black\",\"black\"],\n",
       "            strokeWidth=2,\n",
       "            strokeWidths=null,\n",
       "            nodeOpacity=0.5,\n",
       "            nodeOpacities=null,\n",
       "            strokeOpacity=1,\n",
       "            strokeOpacities=null,\n",
       "            withNodeLabels=true,\n",
       "            nodeLabels=[\"A\",\"B\",\"C\",\"D\",\"E\",\"F\",\"G\"],\n",
       "            nodeLabelsAttr=null,\n",
       "            nodeLabelsStyle=null,\n",
       "            withNodeMetadataOnHover=true,\n",
       "            withNodeWeight=false,\n",
       "            edgeColors=null,\n",
       "            withEdgeLabels=false,\n",
       "            edgeLabels=null,\n",
       "            withHyperedgesMetadataOnHover=false\n",
       "            );\n",
       "    </script>\n",
       "    </footer>\n"
      ],
      "text/plain": [
       "HTML{String}(\"    <head>\\n    </head>\\n\\n    <div id=\\\"div3\\\"></div>\\n\\n    <script src=\\\"https://alessant.github.io/hypergraphs-drawing/hypergraphsdrawing.js\\\"></script>\\n\\n    <script>\\n\\n        hgd.draw(\\n            [{\\\"1\\\":1.5},{\\\"3\\\":3.5,\\\"1\\\":1.5},{\\\"4\\\":2.5,\\\"1\\\":1.5},{\\\"4\\\":4.5,\\\"3\\\":4.5},{\\\"4\\\":5.5,\\\"2\\\":6.5},{\\\"1\\\":1.0},{\\\"1\\\":1.0}],\\n            [{\\\"6\\\":1.0,\\\"7\\\":1.0,\\\"2\\\":1.5,\\\"3\\\":1.5,\\\"1\\\":1.5},{\\\"5\\\":6.5},{\\\"4\\\":4.5,\\\"2\\\":3.5},{\\\"5\\\":5.5,\\\"4\\\":4.5,\\\"3\\\":2.5}],\\n            \\\"div3\\\",\\n            vmeta=[1,2,3,4,5,6,7],\\n            hemeta=[1,2,3,4],\\n            width=500,\\n            height=500,\\n            strength=-60,\\n            linkDistance=40,\\n            linkStrength=1,\\n            theta=0.8,\\n            radius=10,\\n            nodeRadii=null,\\n            nodeColor=\\\"yellow\\\",\\n            nodeColors=[\\\"yellow\\\",\\\"yellow\\\",\\\"yellow\\\",\\\"blue\\\",\\\"red\\\",\\\"red\\\",\\\"blue\\\"],\\n            nodeStroke=\\\"orange\\\",\\n            nodeStrokes=[\\\"orange\\\",\\\"orange\\\",\\\"orange\\\",\\\"orange\\\",\\\"black\\\",\\\"black\\\",\\\"black\\\"],\\n            strokeWidth=2,\\n            strokeWidths=null,\\n            nodeOpacity=0.5,\\n            nodeOpacities=null,\\n            strokeOpacity=1,\\n            strokeOpacities=null,\\n            withNodeLabels=true,\\n            nodeLabels=[\\\"A\\\",\\\"B\\\",\\\"C\\\",\\\"D\\\",\\\"E\\\",\\\"F\\\",\\\"G\\\"],\\n            nodeLabelsAttr=null,\\n            nodeLabelsStyle=null,\\n            withNodeMetadataOnHover=true,\\n            withNodeWeight=false,\\n            edgeColors=null,\\n            withEdgeLabels=false,\\n            edgeLabels=null,\\n            withHyperedgesMetadataOnHover=false\\n            );\\n    </script>\\n    </footer>\\n\")"
      ]
     },
     "execution_count": 16,
     "metadata": {},
     "output_type": "execute_result"
    }
   ],
   "source": [
    "SimpleHypergraphs.draw(\n",
    "    h, \n",
    "    GraphBased; \n",
    "    width=500, \n",
    "    height=500,\n",
    "    radius=10, #same radius for each node\n",
    "    node_color = \"yellow\", #same color for each node\n",
    "    node_colors = [\"yellow\", \"yellow\", \"yellow\", \"blue\", \"red\", \"red\", \"blue\"],\n",
    "    node_stroke = \"orange\", #same stroke for each node\n",
    "    node_strokes =  [\"orange\", \"orange\", \"orange\", \"orange\", \"black\", \"black\", \"black\"],\n",
    "    stroke_width=2, #same stroke-width value for each node\n",
    "    node_opacity=0.5, #same opacity for each node\n",
    "    with_node_labels=true, #whether displaying or not node labels\n",
    "    node_labels=[\"A\",\"B\",\"C\",\"D\",\"E\",\"F\",\"G\"],\n",
    "    with_node_metadata_hover=true,\n",
    ")"
   ]
  },
  {
   "cell_type": "markdown",
   "metadata": {},
   "source": [
    "* If `with_node_weight=true`, each vertex weight within the hyperedges it belongs to will be displayed."
   ]
  },
  {
   "cell_type": "code",
   "execution_count": 17,
   "metadata": {},
   "outputs": [
    {
     "data": {
      "text/html": [
       "    <head>\n",
       "    </head>\n",
       "\n",
       "    <div id=\"div4\"></div>\n",
       "\n",
       "    <script src=\"https://alessant.github.io/hypergraphs-drawing/hypergraphsdrawing.js\"></script>\n",
       "\n",
       "    <script>\n",
       "\n",
       "        hgd.draw(\n",
       "            [{\"1\":1.5},{\"3\":3.5,\"1\":1.5},{\"4\":2.5,\"1\":1.5},{\"4\":4.5,\"3\":4.5},{\"4\":5.5,\"2\":6.5},{\"1\":1.0},{\"1\":1.0}],\n",
       "            [{\"6\":1.0,\"7\":1.0,\"2\":1.5,\"3\":1.5,\"1\":1.5},{\"5\":6.5},{\"4\":4.5,\"2\":3.5},{\"5\":5.5,\"4\":4.5,\"3\":2.5}],\n",
       "            \"div4\",\n",
       "            vmeta=[1,2,3,4,5,6,7],\n",
       "            hemeta=[1,2,3,4],\n",
       "            width=500,\n",
       "            height=500,\n",
       "            strength=-60,\n",
       "            linkDistance=40,\n",
       "            linkStrength=1,\n",
       "            theta=0.8,\n",
       "            radius=10,\n",
       "            nodeRadii=null,\n",
       "            nodeColor=\"yellow\",\n",
       "            nodeColors=null,\n",
       "            nodeStroke=\"orange\",\n",
       "            nodeStrokes=null,\n",
       "            strokeWidth=2,\n",
       "            strokeWidths=null,\n",
       "            nodeOpacity=0.5,\n",
       "            nodeOpacities=null,\n",
       "            strokeOpacity=1,\n",
       "            strokeOpacities=null,\n",
       "            withNodeLabels=true,\n",
       "            nodeLabels=[\"A\",\"B\",\"C\",\"D\",\"E\",\"F\",\"G\"],\n",
       "            nodeLabelsAttr=null,\n",
       "            nodeLabelsStyle=null,\n",
       "            withNodeMetadataOnHover=true,\n",
       "            withNodeWeight=true,\n",
       "            edgeColors=null,\n",
       "            withEdgeLabels=false,\n",
       "            edgeLabels=null,\n",
       "            withHyperedgesMetadataOnHover=false\n",
       "            );\n",
       "    </script>\n",
       "    </footer>\n"
      ],
      "text/plain": [
       "HTML{String}(\"    <head>\\n    </head>\\n\\n    <div id=\\\"div4\\\"></div>\\n\\n    <script src=\\\"https://alessant.github.io/hypergraphs-drawing/hypergraphsdrawing.js\\\"></script>\\n\\n    <script>\\n\\n        hgd.draw(\\n            [{\\\"1\\\":1.5},{\\\"3\\\":3.5,\\\"1\\\":1.5},{\\\"4\\\":2.5,\\\"1\\\":1.5},{\\\"4\\\":4.5,\\\"3\\\":4.5},{\\\"4\\\":5.5,\\\"2\\\":6.5},{\\\"1\\\":1.0},{\\\"1\\\":1.0}],\\n            [{\\\"6\\\":1.0,\\\"7\\\":1.0,\\\"2\\\":1.5,\\\"3\\\":1.5,\\\"1\\\":1.5},{\\\"5\\\":6.5},{\\\"4\\\":4.5,\\\"2\\\":3.5},{\\\"5\\\":5.5,\\\"4\\\":4.5,\\\"3\\\":2.5}],\\n            \\\"div4\\\",\\n            vmeta=[1,2,3,4,5,6,7],\\n            hemeta=[1,2,3,4],\\n            width=500,\\n            height=500,\\n            strength=-60,\\n            linkDistance=40,\\n            linkStrength=1,\\n            theta=0.8,\\n            radius=10,\\n            nodeRadii=null,\\n            nodeColor=\\\"yellow\\\",\\n            nodeColors=null,\\n            nodeStroke=\\\"orange\\\",\\n            nodeStrokes=null,\\n            strokeWidth=2,\\n            strokeWidths=null,\\n            nodeOpacity=0.5,\\n            nodeOpacities=null,\\n            strokeOpacity=1,\\n            strokeOpacities=null,\\n            withNodeLabels=true,\\n            nodeLabels=[\\\"A\\\",\\\"B\\\",\\\"C\\\",\\\"D\\\",\\\"E\\\",\\\"F\\\",\\\"G\\\"],\\n            nodeLabelsAttr=null,\\n            nodeLabelsStyle=null,\\n            withNodeMetadataOnHover=true,\\n            withNodeWeight=true,\\n            edgeColors=null,\\n            withEdgeLabels=false,\\n            edgeLabels=null,\\n            withHyperedgesMetadataOnHover=false\\n            );\\n    </script>\\n    </footer>\\n\")"
      ]
     },
     "execution_count": 17,
     "metadata": {},
     "output_type": "execute_result"
    }
   ],
   "source": [
    "SimpleHypergraphs.draw(\n",
    "    h, \n",
    "    GraphBased; \n",
    "    width=500, \n",
    "    height=500,\n",
    "    radius=10, #same radius for each node\n",
    "    node_color = \"yellow\", #same color for each node\n",
    "    node_stroke=\"orange\", #same stroke for each node\n",
    "    stroke_width=2, #same stroke-width value for each node\n",
    "    node_opacity=0.5, #same opacity for each node\n",
    "    with_node_labels=true, #whether displaying or not node labels\n",
    "    node_labels=[\"A\",\"B\",\"C\",\"D\",\"E\",\"F\",\"G\"],\n",
    "    with_node_metadata_hover=true,\n",
    "    with_node_weight=true\n",
    ")"
   ]
  },
  {
   "cell_type": "markdown",
   "metadata": {},
   "source": [
    "### Hyperedges options"
   ]
  },
  {
   "cell_type": "code",
   "execution_count": 18,
   "metadata": {},
   "outputs": [
    {
     "data": {
      "text/html": [
       "    <head>\n",
       "    </head>\n",
       "\n",
       "    <div id=\"div5\"></div>\n",
       "\n",
       "    <script src=\"https://alessant.github.io/hypergraphs-drawing/hypergraphsdrawing.js\"></script>\n",
       "\n",
       "    <script>\n",
       "\n",
       "        hgd.draw(\n",
       "            [{\"1\":1.5},{\"3\":3.5,\"1\":1.5},{\"4\":2.5,\"1\":1.5},{\"4\":4.5,\"3\":4.5},{\"4\":5.5,\"2\":6.5},{\"1\":1.0},{\"1\":1.0}],\n",
       "            [{\"6\":1.0,\"7\":1.0,\"2\":1.5,\"3\":1.5,\"1\":1.5},{\"5\":6.5},{\"4\":4.5,\"2\":3.5},{\"5\":5.5,\"4\":4.5,\"3\":2.5}],\n",
       "            \"div5\",\n",
       "            vmeta=[1,2,3,4,5,6,7],\n",
       "            hemeta=[1,2,3,4],\n",
       "            width=500,\n",
       "            height=500,\n",
       "            strength=-60,\n",
       "            linkDistance=40,\n",
       "            linkStrength=1,\n",
       "            theta=0.8,\n",
       "            radius=10,\n",
       "            nodeRadii=null,\n",
       "            nodeColor=\"yellow\",\n",
       "            nodeColors=null,\n",
       "            nodeStroke=\"orange\",\n",
       "            nodeStrokes=null,\n",
       "            strokeWidth=2,\n",
       "            strokeWidths=null,\n",
       "            nodeOpacity=0.5,\n",
       "            nodeOpacities=null,\n",
       "            strokeOpacity=1,\n",
       "            strokeOpacities=null,\n",
       "            withNodeLabels=true,\n",
       "            nodeLabels=null,\n",
       "            nodeLabelsAttr=null,\n",
       "            nodeLabelsStyle=null,\n",
       "            withNodeMetadataOnHover=true,\n",
       "            withNodeWeight=true,\n",
       "            edgeColors=[\"green\",\"blue\",\"red\",\"yellow\"],\n",
       "            withEdgeLabels=true,\n",
       "            edgeLabels=[\"a\",\"b\",\"c\",\"d\"],\n",
       "            withHyperedgesMetadataOnHover=true\n",
       "            );\n",
       "    </script>\n",
       "    </footer>\n"
      ],
      "text/plain": [
       "HTML{String}(\"    <head>\\n    </head>\\n\\n    <div id=\\\"div5\\\"></div>\\n\\n    <script src=\\\"https://alessant.github.io/hypergraphs-drawing/hypergraphsdrawing.js\\\"></script>\\n\\n    <script>\\n\\n        hgd.draw(\\n            [{\\\"1\\\":1.5},{\\\"3\\\":3.5,\\\"1\\\":1.5},{\\\"4\\\":2.5,\\\"1\\\":1.5},{\\\"4\\\":4.5,\\\"3\\\":4.5},{\\\"4\\\":5.5,\\\"2\\\":6.5},{\\\"1\\\":1.0},{\\\"1\\\":1.0}],\\n            [{\\\"6\\\":1.0,\\\"7\\\":1.0,\\\"2\\\":1.5,\\\"3\\\":1.5,\\\"1\\\":1.5},{\\\"5\\\":6.5},{\\\"4\\\":4.5,\\\"2\\\":3.5},{\\\"5\\\":5.5,\\\"4\\\":4.5,\\\"3\\\":2.5}],\\n            \\\"div5\\\",\\n            vmeta=[1,2,3,4,5,6,7],\\n            hemeta=[1,2,3,4],\\n            width=500,\\n            height=500,\\n            strength=-60,\\n            linkDistance=40,\\n            linkStrength=1,\\n            theta=0.8,\\n            radius=10,\\n            nodeRadii=null,\\n            nodeColor=\\\"yellow\\\",\\n            nodeColors=null,\\n            nodeStroke=\\\"orange\\\",\\n            nodeStrokes=null,\\n            strokeWidth=2,\\n            strokeWidths=null,\\n            nodeOpacity=0.5,\\n            nodeOpacities=null,\\n            strokeOpacity=1,\\n            strokeOpacities=null,\\n            withNodeLabels=true,\\n            nodeLabels=null,\\n            nodeLabelsAttr=null,\\n            nodeLabelsStyle=null,\\n            withNodeMetadataOnHover=true,\\n            withNodeWeight=true,\\n            edgeColors=[\\\"green\\\",\\\"blue\\\",\\\"red\\\",\\\"yellow\\\"],\\n            withEdgeLabels=true,\\n            edgeLabels=[\\\"a\\\",\\\"b\\\",\\\"c\\\",\\\"d\\\"],\\n            withHyperedgesMetadataOnHover=true\\n            );\\n    </script>\\n    </footer>\\n\")"
      ]
     },
     "execution_count": 18,
     "metadata": {},
     "output_type": "execute_result"
    }
   ],
   "source": [
    "SimpleHypergraphs.draw(\n",
    "    h, \n",
    "    GraphBased; \n",
    "    width=500, \n",
    "    height=500,\n",
    "    radius=10, #same radius for each node\n",
    "    node_color = \"yellow\", #same color for each node\n",
    "    node_stroke=\"orange\", #same stroke for each node\n",
    "    stroke_width=2, #same stroke-width value for each node\n",
    "    node_opacity=0.5, #same opacity for each node\n",
    "    with_node_labels=true, #whether displaying or not node labels\n",
    "    with_node_metadata_hover=true,\n",
    "    with_node_weight=true, #whether displaying vertices metadata on mouse hover\n",
    "    he_colors=[\"green\", \"blue\", \"red\", \"yellow\"], #hyperedges colors\n",
    "    with_he_labels=true, #whether displaying or not hyperedge labels\n",
    "    he_labels=[\"a\",\"b\",\"c\",\"d\"], #hyperedges labels\n",
    "    with_he_metadata_hover=true #whether displaying hyperedges metadata on mouse hover\n",
    ")"
   ]
  },
  {
   "cell_type": "markdown",
   "metadata": {},
   "source": [
    "## A Euler-based visualization"
   ]
  },
  {
   "cell_type": "markdown",
   "metadata": {},
   "source": [
    "**SimpleHypergraphs** integates the Python library **HyperNetX** to let the user visualize a hypergraph `h` exploiting an Euler-diagram visualization. For more details, please refer to the library [HyperNetX](https://github.com/pnnl/HyperNetX)."
   ]
  },
  {
   "cell_type": "code",
   "execution_count": 19,
   "metadata": {},
   "outputs": [
    {
     "data": {
      "image/png": "[encoded data removed]",
      "text/plain": [
       "PyPlot.Figure(PyObject <Figure size 500x500 with 1 Axes>)"
      ]
     },
     "metadata": {},
     "output_type": "display_data"
    }
   ],
   "source": [
    "SimpleHypergraphs.draw(h, HyperNetX; width=5, height=5, no_border=true)"
   ]
  },
  {
   "cell_type": "code",
   "execution_count": null,
   "metadata": {},
   "outputs": [],
   "source": []
  }
 ],
 "metadata": {
  "kernelspec": {
   "display_name": "Julia 1.9.0",
   "language": "julia",
   "name": "julia-1.9"
  },
  "language_info": {
   "file_extension": ".jl",
   "mimetype": "application/julia",
   "name": "julia",
   "version": "1.9.0"
  }
 },
 "nbformat": 4,
 "nbformat_minor": 4
}
